{
 "cells": [
  {
   "cell_type": "code",
   "execution_count": 1,
   "metadata": {},
   "outputs": [],
   "source": [
    "import numpy as np \n",
    "import pandas as pd \n",
    "import matplotlib.pyplot as plt\n",
    "import glob\n",
    "import cv2\n",
    "import os"
   ]
  },
  {
   "cell_type": "code",
   "execution_count": 2,
   "metadata": {},
   "outputs": [
    {
     "name": "stdout",
     "output_type": "stream",
     "text": [
      "Loading training set...\n"
     ]
    },
    {
     "ename": "KeyboardInterrupt",
     "evalue": "",
     "output_type": "error",
     "traceback": [
      "\u001b[0;31m\u001b[0m",
      "\u001b[0;31mKeyboardInterrupt\u001b[0mTraceback (most recent call last)",
      "\u001b[0;32m<ipython-input-2-496805ef6996>\u001b[0m in \u001b[0;36m<module>\u001b[0;34m()\u001b[0m\n\u001b[1;32m      8\u001b[0m     \u001b[0;32mfor\u001b[0m \u001b[0mimage_path\u001b[0m \u001b[0;32min\u001b[0m \u001b[0mglob\u001b[0m\u001b[0;34m.\u001b[0m\u001b[0mglob\u001b[0m\u001b[0;34m(\u001b[0m\u001b[0mos\u001b[0m\u001b[0;34m.\u001b[0m\u001b[0mpath\u001b[0m\u001b[0;34m.\u001b[0m\u001b[0mjoin\u001b[0m\u001b[0;34m(\u001b[0m\u001b[0mdir_path\u001b[0m\u001b[0;34m,\u001b[0m\u001b[0;34m\"*.jpg\"\u001b[0m\u001b[0;34m)\u001b[0m\u001b[0;34m)\u001b[0m\u001b[0;34m:\u001b[0m\u001b[0;34m\u001b[0m\u001b[0m\n\u001b[1;32m      9\u001b[0m         \u001b[0mtrain_labels\u001b[0m\u001b[0;34m.\u001b[0m\u001b[0mappend\u001b[0m\u001b[0;34m(\u001b[0m\u001b[0mlabel\u001b[0m\u001b[0;34m)\u001b[0m\u001b[0;34m\u001b[0m\u001b[0m\n\u001b[0;32m---> 10\u001b[0;31m         \u001b[0mimage\u001b[0m\u001b[0;34m=\u001b[0m\u001b[0mcv2\u001b[0m\u001b[0;34m.\u001b[0m\u001b[0mimread\u001b[0m\u001b[0;34m(\u001b[0m\u001b[0mimage_path\u001b[0m\u001b[0;34m,\u001b[0m\u001b[0mflags\u001b[0m\u001b[0;34m=\u001b[0m\u001b[0mcv2\u001b[0m\u001b[0;34m.\u001b[0m\u001b[0mIMREAD_COLOR\u001b[0m\u001b[0;34m)\u001b[0m\u001b[0;34m\u001b[0m\u001b[0m\n\u001b[0m\u001b[1;32m     11\u001b[0m         \u001b[0mtrain_images\u001b[0m\u001b[0;34m.\u001b[0m\u001b[0mappend\u001b[0m\u001b[0;34m(\u001b[0m\u001b[0mimage\u001b[0m\u001b[0;34m)\u001b[0m\u001b[0;34m\u001b[0m\u001b[0m\n\u001b[1;32m     12\u001b[0m \u001b[0;34m\u001b[0m\u001b[0m\n",
      "\u001b[0;31mKeyboardInterrupt\u001b[0m: "
     ]
    }
   ],
   "source": [
    "#Training set\n",
    "print(\"Loading training set...\")\n",
    "\n",
    "train_labels=[]\n",
    "train_images=[]\n",
    "for dir_path in glob.glob(\"/datasets/ee285s-public/fruits-360/Training/*\"):\n",
    "    label=dir_path.split(\"/\")[-1]\n",
    "    for image_path in glob.glob(os.path.join(dir_path,\"*.jpg\")):\n",
    "        train_labels.append(label)\n",
    "        image=cv2.imread(image_path,flags=cv2.IMREAD_COLOR)\n",
    "        train_images.append(image)\n",
    "\n",
    "train_labels=np.array(train_labels)\n",
    "train_images=np.array(train_images)        \n",
    "\n",
    "print(\"Done\")"
   ]
  },
  {
   "cell_type": "code",
   "execution_count": null,
   "metadata": {},
   "outputs": [],
   "source": [
    "#Test set\n",
    "print(\"Loading test set...\")\n",
    "\n",
    "test_labels=[]\n",
    "test_images=[]\n",
    "for dir_path in glob.glob(\"/datasets/ee285s-public/fruits-360/Validation/*\"):\n",
    "    label=dir_path.split(\"/\")[-1]\n",
    "    for image_path in glob.glob(os.path.join(dir_path,\"*.jpg\")):\n",
    "        test_labels.append(label)\n",
    "        image=cv2.imread(image_path,cv2.IMREAD_COLOR)\n",
    "        test_images.append(image)\n",
    "\n",
    "test_labels=np.array(test_labels)\n",
    "test_images=np.array(test_images)\n",
    "#print(test_labels)\n",
    "#print(test_labels.size)\n",
    "#print(test_images)\n",
    "#print(test_images.shape)\n",
    "print('Done')"
   ]
  },
  {
   "cell_type": "code",
   "execution_count": null,
   "metadata": {},
   "outputs": [],
   "source": [
    "#Split test set into val/test set\n",
    "print(\"Splitting into val/test set...\")\n",
    "idx=np.random.permutation(range(9673))\n",
    "#Val\n",
    "val_images,val_labels=test_images[idx[0:4841]],test_labels[idx[0:4841]]\n",
    "#Test\n",
    "test_images,test_labels=test_images[idx[4841:9673]],test_labels[idx[4841:9673]]\n",
    "\n",
    "print('Done')"
   ]
  },
  {
   "cell_type": "code",
   "execution_count": null,
   "metadata": {},
   "outputs": [],
   "source": [
    "#Normalize\n",
    "print(\"Normalization...\")\n",
    "\n",
    "#Train\n",
    "train_images=train_images/255\n",
    "#Val\n",
    "val_images=val_images/255\n",
    "#Test\n",
    "test_images=test_images/255\n",
    "\n",
    "print(\"Done\")"
   ]
  },
  {
   "cell_type": "code",
   "execution_count": null,
   "metadata": {},
   "outputs": [],
   "source": [
    "label_to_id_dict = {v:k for k,v in enumerate(np.unique(train_labels))}\n",
    "id_to_label_dict = {v:k for k,v in label_to_id_dict.items()}"
   ]
  },
  {
   "cell_type": "code",
   "execution_count": null,
   "metadata": {},
   "outputs": [],
   "source": [
    "train_labels_ids=np.array([label_to_id_dict[i] for i in train_labels])\n",
    "val_labels_ids=np.array([label_to_id_dict[i] for i in val_labels])\n",
    "test_labels_ids=np.array([label_to_id_dict[i] for i in test_labels])"
   ]
  },
  {
   "cell_type": "code",
   "execution_count": null,
   "metadata": {},
   "outputs": [],
   "source": [
    "#Labels one-hot encode\n",
    "print(\"Converting to one-hot code...\")\n",
    "#Train\n",
    "hot_encode_train=np.zeros((train_labels_ids.max()+1,train_labels_ids.size))\n",
    "hot_encode_train[train_labels_ids,np.arange(0,train_labels_ids.size)]=1\n",
    "#Val\n",
    "hot_encode_val=np.zeros((val_labels_ids.max()+1,val_labels_ids.size))\n",
    "hot_encode_val[val_labels_ids,np.arange(0,val_labels_ids.size)]=1\n",
    "#Test\n",
    "hot_encode_test=np.zeros((test_labels_ids.max()+1,test_labels_ids.size))\n",
    "hot_encode_test[test_labels_ids,np.arange(0,test_labels_ids.size)]=1\n",
    "\n",
    "train_labels=hot_encode_train.T\n",
    "val_labels=hot_encode_val.T\n",
    "test_labels=hot_encode_test.T\n",
    "\n",
    "print(\"Done\")"
   ]
  },
  {
   "cell_type": "code",
   "execution_count": null,
   "metadata": {},
   "outputs": [],
   "source": [
    "X_train=train_images\n",
    "Y_train=train_labels\n",
    "X_val=val_images\n",
    "Y_val=val_labels\n",
    "X_test=test_images\n",
    "Y_test=test_labels"
   ]
  },
  {
   "cell_type": "code",
   "execution_count": null,
   "metadata": {},
   "outputs": [],
   "source": [
    "print(\"Finished!\")"
   ]
  }
 ],
 "metadata": {
  "kernelspec": {
   "display_name": "Python 3",
   "language": "python",
   "name": "python3"
  },
  "language_info": {
   "codemirror_mode": {
    "name": "ipython",
    "version": 3
   },
   "file_extension": ".py",
   "mimetype": "text/x-python",
   "name": "python",
   "nbconvert_exporter": "python",
   "pygments_lexer": "ipython3",
   "version": "3.6.4"
  }
 },
 "nbformat": 4,
 "nbformat_minor": 2
}
