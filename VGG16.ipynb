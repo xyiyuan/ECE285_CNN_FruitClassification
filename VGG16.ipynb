{
 "cells": [
  {
   "cell_type": "code",
   "execution_count": 1,
   "metadata": {},
   "outputs": [
    {
     "name": "stderr",
     "output_type": "stream",
     "text": [
      "/opt/conda/lib/python3.6/site-packages/h5py/__init__.py:36: FutureWarning: Conversion of the second argument of issubdtype from `float` to `np.floating` is deprecated. In future, it will be treated as `np.float64 == np.dtype(float).type`.\n",
      "  from ._conv import register_converters as _register_converters\n",
      "/opt/conda/lib/python3.6/importlib/_bootstrap.py:219: RuntimeWarning: compiletime version 3.5 of module 'tensorflow.python.framework.fast_tensor_util' does not match runtime version 3.6\n",
      "  return f(*args, **kwds)\n"
     ]
    }
   ],
   "source": [
    "# import lib\n",
    "from __future__ import print_function\n",
    "import numpy as np \n",
    "import math\n",
    "import h5py\n",
    "import matplotlib.pyplot as plt\n",
    "import scipy\n",
    "from PIL import Image\n",
    "from scipy import ndimage\n",
    "import tensorflow as tf\n",
    "from tensorflow import keras\n",
    "import time"
   ]
  },
  {
   "cell_type": "code",
   "execution_count": 2,
   "metadata": {},
   "outputs": [
    {
     "name": "stdout",
     "output_type": "stream",
     "text": [
      "Loading training set...\n",
      "Done\n",
      "Loading test set...\n",
      "Done\n",
      "Splitting into val/test set...\n",
      "Done\n",
      "Normalization...\n",
      "Done\n",
      "Converting to one-hot code...\n",
      "Done\n",
      "Finished!\n",
      "number of training examples = 28736\n",
      "number of test examples = 4832\n",
      "X_train shape: (28736, 100, 100, 3)\n",
      "Y_train shape: (28736, 60)\n",
      "X_val shape: (4841, 100, 100, 3)\n",
      "Y_val shape: (4841, 60)\n",
      "X_test shape: (4832, 100, 100, 3)\n",
      "Y_test shape: (4832, 60)\n"
     ]
    }
   ],
   "source": [
    "# choose data\n",
    "%run 'data preprocessing.py'\n",
    "#%run 'DA-Gaussian.py'\n",
    "#%run 'DA-salt&pepper.py'\n",
    "#%run 'DA-perspective.py'\n",
    "print (\"number of training examples = \" + str(X_train.shape[0]))\n",
    "print (\"number of test examples = \" + str(X_test.shape[0]))\n",
    "print (\"X_train shape: \" + str(X_train.shape))\n",
    "print (\"Y_train shape: \" + str(Y_train.shape))\n",
    "print (\"X_val shape: \" + str(X_val.shape))\n",
    "print (\"Y_val shape: \" + str(Y_val.shape))\n",
    "print (\"X_test shape: \" + str(X_test.shape))\n",
    "print (\"Y_test shape: \" + str(Y_test.shape))"
   ]
  },
  {
   "cell_type": "code",
   "execution_count": 3,
   "metadata": {},
   "outputs": [],
   "source": [
    "# model building\n",
    "def build_model():\n",
    "    base_model = keras.applications.VGG16(input_shape=(100,100,3), include_top=False, weights='imagenet')\n",
    "    base_model_output = base_model.output\n",
    "    x = keras.layers.Flatten(name='flatten')(base_model_output)\n",
    "    out = keras.layers.Dense(60, name='output', activation='softmax')(x)\n",
    "    \n",
    "    for layer in base_model.layers:\n",
    "        layer.trainable = False\n",
    "\n",
    "    model = keras.models.Model(inputs=base_model.input, outputs=out)\n",
    "    return model"
   ]
  },
  {
   "cell_type": "code",
   "execution_count": 4,
   "metadata": {},
   "outputs": [
    {
     "name": "stdout",
     "output_type": "stream",
     "text": [
      "_________________________________________________________________\n",
      "Layer (type)                 Output Shape              Param #   \n",
      "=================================================================\n",
      "input_1 (InputLayer)         (None, 100, 100, 3)       0         \n",
      "_________________________________________________________________\n",
      "block1_conv1 (Conv2D)        (None, 100, 100, 64)      1792      \n",
      "_________________________________________________________________\n",
      "block1_conv2 (Conv2D)        (None, 100, 100, 64)      36928     \n",
      "_________________________________________________________________\n",
      "block1_pool (MaxPooling2D)   (None, 50, 50, 64)        0         \n",
      "_________________________________________________________________\n",
      "block2_conv1 (Conv2D)        (None, 50, 50, 128)       73856     \n",
      "_________________________________________________________________\n",
      "block2_conv2 (Conv2D)        (None, 50, 50, 128)       147584    \n",
      "_________________________________________________________________\n",
      "block2_pool (MaxPooling2D)   (None, 25, 25, 128)       0         \n",
      "_________________________________________________________________\n",
      "block3_conv1 (Conv2D)        (None, 25, 25, 256)       295168    \n",
      "_________________________________________________________________\n",
      "block3_conv2 (Conv2D)        (None, 25, 25, 256)       590080    \n",
      "_________________________________________________________________\n",
      "block3_conv3 (Conv2D)        (None, 25, 25, 256)       590080    \n",
      "_________________________________________________________________\n",
      "block3_pool (MaxPooling2D)   (None, 12, 12, 256)       0         \n",
      "_________________________________________________________________\n",
      "block4_conv1 (Conv2D)        (None, 12, 12, 512)       1180160   \n",
      "_________________________________________________________________\n",
      "block4_conv2 (Conv2D)        (None, 12, 12, 512)       2359808   \n",
      "_________________________________________________________________\n",
      "block4_conv3 (Conv2D)        (None, 12, 12, 512)       2359808   \n",
      "_________________________________________________________________\n",
      "block4_pool (MaxPooling2D)   (None, 6, 6, 512)         0         \n",
      "_________________________________________________________________\n",
      "block5_conv1 (Conv2D)        (None, 6, 6, 512)         2359808   \n",
      "_________________________________________________________________\n",
      "block5_conv2 (Conv2D)        (None, 6, 6, 512)         2359808   \n",
      "_________________________________________________________________\n",
      "block5_conv3 (Conv2D)        (None, 6, 6, 512)         2359808   \n",
      "_________________________________________________________________\n",
      "block5_pool (MaxPooling2D)   (None, 3, 3, 512)         0         \n",
      "_________________________________________________________________\n",
      "flatten (Flatten)            (None, 4608)              0         \n",
      "_________________________________________________________________\n",
      "output (Dense)               (None, 60)                276540    \n",
      "=================================================================\n",
      "Total params: 14,991,228\n",
      "Trainable params: 276,540\n",
      "Non-trainable params: 14,714,688\n",
      "_________________________________________________________________\n"
     ]
    }
   ],
   "source": [
    "model = build_model()\n",
    "model.summary()"
   ]
  },
  {
   "cell_type": "code",
   "execution_count": 5,
   "metadata": {},
   "outputs": [],
   "source": [
    "model.compile(\n",
    "    loss='categorical_crossentropy', \n",
    "    metrics=['accuracy'], \n",
    "    optimizer=tf.train.AdamOptimizer(learning_rate=0.001,beta1=0.9,beta2=0.999,epsilon=1e-08,use_locking=False))"
   ]
  },
  {
   "cell_type": "code",
   "execution_count": 6,
   "metadata": {},
   "outputs": [
    {
     "name": "stdout",
     "output_type": "stream",
     "text": [
      "Train on 28736 samples, validate on 4841 samples\n",
      "Epoch 1/30\n",
      "28736/28736 [==============================] - 38s - loss: 1.0286 - acc: 0.8592 - val_loss: 0.4451 - val_acc: 0.9384\n",
      "Epoch 2/30\n",
      "28736/28736 [==============================] - 30s - loss: 0.1539 - acc: 0.9957 - val_loss: 0.2613 - val_acc: 0.9614\n",
      "Epoch 3/30\n",
      "28736/28736 [==============================] - 30s - loss: 0.0714 - acc: 0.9993 - val_loss: 0.1987 - val_acc: 0.9692\n",
      "Epoch 4/30\n",
      "28736/28736 [==============================] - 29s - loss: 0.0431 - acc: 0.9999 - val_loss: 0.1629 - val_acc: 0.9717\n",
      "Epoch 5/30\n",
      "28736/28736 [==============================] - 31s - loss: 0.0292 - acc: 1.0000 - val_loss: 0.1413 - val_acc: 0.9713\n",
      "Epoch 6/30\n",
      "28736/28736 [==============================] - 30s - loss: 0.0214 - acc: 1.0000 - val_loss: 0.1243 - val_acc: 0.9756\n",
      "Epoch 7/30\n",
      "28736/28736 [==============================] - 30s - loss: 0.0165 - acc: 1.0000 - val_loss: 0.1152 - val_acc: 0.9771\n",
      "Epoch 8/30\n",
      "28736/28736 [==============================] - 31s - loss: 0.0131 - acc: 1.0000 - val_loss: 0.1070 - val_acc: 0.9769\n",
      "Epoch 9/30\n",
      "28736/28736 [==============================] - 29s - loss: 0.0107 - acc: 1.0000 - val_loss: 0.0992 - val_acc: 0.9787\n",
      "Epoch 10/30\n",
      "28736/28736 [==============================] - 31s - loss: 0.0090 - acc: 1.0000 - val_loss: 0.0951 - val_acc: 0.9793\n",
      "Epoch 11/30\n",
      "28736/28736 [==============================] - 30s - loss: 0.0076 - acc: 1.0000 - val_loss: 0.0918 - val_acc: 0.9791\n",
      "Epoch 12/30\n",
      "28736/28736 [==============================] - 29s - loss: 0.0065 - acc: 1.0000 - val_loss: 0.0904 - val_acc: 0.9787\n",
      "Epoch 13/30\n",
      "28736/28736 [==============================] - 30s - loss: 0.0057 - acc: 1.0000 - val_loss: 0.0843 - val_acc: 0.9791\n",
      "Epoch 14/30\n",
      "28736/28736 [==============================] - 29s - loss: 0.0050 - acc: 1.0000 - val_loss: 0.0831 - val_acc: 0.9793\n",
      "Epoch 15/30\n",
      "28736/28736 [==============================] - 30s - loss: 0.0044 - acc: 1.0000 - val_loss: 0.0825 - val_acc: 0.9800\n",
      "Epoch 16/30\n",
      "28736/28736 [==============================] - 31s - loss: 0.0039 - acc: 1.0000 - val_loss: 0.0766 - val_acc: 0.9806\n",
      "Epoch 17/30\n",
      "28736/28736 [==============================] - 29s - loss: 0.0035 - acc: 1.0000 - val_loss: 0.0775 - val_acc: 0.9808\n",
      "Epoch 18/30\n",
      "28736/28736 [==============================] - 30s - loss: 0.0032 - acc: 1.0000 - val_loss: 0.0741 - val_acc: 0.9808\n",
      "Epoch 19/30\n",
      "28736/28736 [==============================] - 29s - loss: 0.0029 - acc: 1.0000 - val_loss: 0.0745 - val_acc: 0.9808\n",
      "Epoch 20/30\n",
      "28736/28736 [==============================] - 30s - loss: 0.0026 - acc: 1.0000 - val_loss: 0.0721 - val_acc: 0.9820\n",
      "Epoch 21/30\n",
      "28736/28736 [==============================] - 31s - loss: 0.0023 - acc: 1.0000 - val_loss: 0.0735 - val_acc: 0.9808\n",
      "Epoch 22/30\n",
      "28736/28736 [==============================] - 29s - loss: 0.0021 - acc: 1.0000 - val_loss: 0.0720 - val_acc: 0.9820\n",
      "Epoch 23/30\n",
      "28736/28736 [==============================] - 31s - loss: 0.0020 - acc: 1.0000 - val_loss: 0.0707 - val_acc: 0.9816\n",
      "Epoch 24/30\n",
      "28736/28736 [==============================] - 30s - loss: 0.0018 - acc: 1.0000 - val_loss: 0.0676 - val_acc: 0.9818\n",
      "Epoch 25/30\n",
      "28736/28736 [==============================] - 29s - loss: 0.0017 - acc: 1.0000 - val_loss: 0.0677 - val_acc: 0.9816\n",
      "Epoch 26/30\n",
      "28736/28736 [==============================] - 31s - loss: 0.0015 - acc: 1.0000 - val_loss: 0.0666 - val_acc: 0.9818\n",
      "Epoch 27/30\n",
      "28736/28736 [==============================] - 29s - loss: 0.0014 - acc: 1.0000 - val_loss: 0.0650 - val_acc: 0.9824\n",
      "Epoch 28/30\n",
      "28736/28736 [==============================] - 30s - loss: 0.0013 - acc: 1.0000 - val_loss: 0.0654 - val_acc: 0.9824\n",
      "Epoch 29/30\n",
      "28736/28736 [==============================] - 31s - loss: 0.0012 - acc: 1.0000 - val_loss: 0.0643 - val_acc: 0.9824\n",
      "Epoch 30/30\n",
      "28736/28736 [==============================] - 28s - loss: 0.0011 - acc: 1.0000 - val_loss: 0.0647 - val_acc: 0.9826\n",
      "Runtime: 921.4973466396332s\n"
     ]
    }
   ],
   "source": [
    "start=time.time()\n",
    "\n",
    "history = model.fit(\n",
    "    X_train,\n",
    "    Y_train, \n",
    "    batch_size = 256,\n",
    "    epochs = 30, \n",
    "    verbose = 1, \n",
    "    shuffle = True,\n",
    "    validation_data=(X_val, Y_val))\n",
    "\n",
    "end=time.time()\n",
    "runtime=end-start\n",
    "print(\"Runtime: \"+str(runtime)+\"s\")"
   ]
  },
  {
   "cell_type": "code",
   "execution_count": 7,
   "metadata": {},
   "outputs": [
    {
     "data": {
      "image/png": "[encoded data removed]",
      "text/plain": [
       "<Figure size 432x288 with 1 Axes>"
      ]
     },
     "metadata": {},
     "output_type": "display_data"
    }
   ],
   "source": [
    "plt.plot(history.history['loss'])\n",
    "plt.plot(history.history['val_loss'])\n",
    "plt.title('model loss')\n",
    "plt.ylabel('loss')\n",
    "plt.xlabel('epoch')\n",
    "plt.legend(['train','val'],loc='upper left')\n",
    "plt.show()"
   ]
  },
  {
   "cell_type": "code",
   "execution_count": 8,
   "metadata": {},
   "outputs": [
    {
     "data": {
      "image/png": "[encoded data removed]",
      "text/plain": [
       "<Figure size 432x288 with 1 Axes>"
      ]
     },
     "metadata": {},
     "output_type": "display_data"
    }
   ],
   "source": [
    "plt.plot(history.history['acc'])\n",
    "plt.plot(history.history['val_acc'])\n",
    "plt.title('model accuracy')\n",
    "plt.ylabel('accuracy')\n",
    "plt.xlabel('epoch')\n",
    "plt.legend(['train', 'val'], loc='upper left')\n",
    "plt.show()"
   ]
  },
  {
   "cell_type": "code",
   "execution_count": 9,
   "metadata": {},
   "outputs": [
    {
     "name": "stdout",
     "output_type": "stream",
     "text": [
      "4800/4832 [============================>.] - ETA: 0s\n",
      "acc: 97.83%\n",
      "Runtime: 5.720963716506958s\n"
     ]
    }
   ],
   "source": [
    "start=time.time()\n",
    "\n",
    "scores = model.evaluate(\n",
    "    test_images,\n",
    "    test_labels, \n",
    "    batch_size = 32, \n",
    "    verbose = 1, \n",
    "    sample_weight=None, \n",
    "    steps=None)\n",
    "\n",
    "print(\"\\n%s: %.2f%%\" % (model.metrics_names[1], scores[1]*100))\n",
    "\n",
    "end=time.time()\n",
    "runtime=end-start\n",
    "print(\"Runtime: \"+str(runtime)+\"s\")"
   ]
  },
  {
   "cell_type": "code",
   "execution_count": null,
   "metadata": {},
   "outputs": [],
   "source": []
  },
  {
   "cell_type": "code",
   "execution_count": null,
   "metadata": {},
   "outputs": [],
   "source": []
  }
 ],
 "metadata": {
  "kernelspec": {
   "display_name": "Python 3",
   "language": "python",
   "name": "python3"
  },
  "language_info": {
   "codemirror_mode": {
    "name": "ipython",
    "version": 3
   },
   "file_extension": ".py",
   "mimetype": "text/x-python",
   "name": "python",
   "nbconvert_exporter": "python",
   "pygments_lexer": "ipython3",
   "version": "3.6.4"
  }
 },
 "nbformat": 4,
 "nbformat_minor": 2
}
