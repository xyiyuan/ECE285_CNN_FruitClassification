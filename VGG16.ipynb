{
 "cells": [
  {
   "cell_type": "code",
   "execution_count": 1,
   "metadata": {},
   "outputs": [
    {
     "name": "stderr",
     "output_type": "stream",
     "text": [
      "/opt/conda/lib/python3.6/site-packages/h5py/__init__.py:36: FutureWarning: Conversion of the second argument of issubdtype from `float` to `np.floating` is deprecated. In future, it will be treated as `np.float64 == np.dtype(float).type`.\n",
      "  from ._conv import register_converters as _register_converters\n",
      "/opt/conda/lib/python3.6/importlib/_bootstrap.py:219: RuntimeWarning: compiletime version 3.5 of module 'tensorflow.python.framework.fast_tensor_util' does not match runtime version 3.6\n",
      "  return f(*args, **kwds)\n"
     ]
    }
   ],
   "source": [
    "# import lib\n",
    "from __future__ import print_function\n",
    "import numpy as np \n",
    "import math\n",
    "import h5py\n",
    "import matplotlib.pyplot as plt\n",
    "import scipy\n",
    "from PIL import Image\n",
    "from scipy import ndimage\n",
    "import tensorflow as tf\n",
    "from tensorflow.python.framework import ops\n",
    "from tensorflow import keras\n",
    "import time"
   ]
  },
  {
   "cell_type": "code",
   "execution_count": 2,
   "metadata": {},
   "outputs": [
    {
     "name": "stdout",
     "output_type": "stream",
     "text": [
      "Loading training set...\n",
      "Done\n",
      "Loading test set...\n",
      "Done\n",
      "Splitting into val/test set...\n",
      "Done\n",
      "Normalization...\n",
      "Done\n",
      "Converting to one-hot code...\n",
      "Done\n",
      "Finished!\n"
     ]
    }
   ],
   "source": [
    "%run 'Data Preprocessing.ipynb'"
   ]
  },
  {
   "cell_type": "code",
   "execution_count": 3,
   "metadata": {},
   "outputs": [],
   "source": [
    "#%run 'DA-Gaussian.ipynb'"
   ]
  },
  {
   "cell_type": "code",
   "execution_count": 4,
   "metadata": {},
   "outputs": [],
   "source": [
    "#%run 'DA-salt&pepper.ipynb'"
   ]
  },
  {
   "cell_type": "code",
   "execution_count": 5,
   "metadata": {},
   "outputs": [],
   "source": [
    "#%run 'DA-perspective.ipynb'"
   ]
  },
  {
   "cell_type": "code",
   "execution_count": 6,
   "metadata": {},
   "outputs": [
    {
     "name": "stdout",
     "output_type": "stream",
     "text": [
      "number of training examples = 28736\n",
      "number of validation examples = 4841\n",
      "number of test examples = 4832\n",
      "X_train shape: (28736, 100, 100, 3)\n",
      "Y_train shape: (28736, 60)\n",
      "X_val shape: (4841, 100, 100, 3)\n",
      "Y_val shape: (4841, 60)\n",
      "X_test shape: (4832, 100, 100, 3)\n",
      "Y_test shape: (4832, 60)\n"
     ]
    }
   ],
   "source": [
    "print (\"number of training examples = \" + str(X_train.shape[0]))\n",
    "print (\"number of validation examples = \" + str(X_val.shape[0]))\n",
    "print (\"number of test examples = \" + str(X_test.shape[0]))\n",
    "print (\"X_train shape: \" + str(X_train.shape))\n",
    "print (\"Y_train shape: \" + str(Y_train.shape))\n",
    "print (\"X_val shape: \" + str(X_val.shape))\n",
    "print (\"Y_val shape: \" + str(Y_val.shape))\n",
    "print (\"X_test shape: \" + str(X_test.shape))\n",
    "print (\"Y_test shape: \" + str(Y_test.shape))"
   ]
  },
  {
   "cell_type": "code",
   "execution_count": 7,
   "metadata": {},
   "outputs": [],
   "source": [
    "# model building\n",
    "def build_model():\n",
    "    base_model = keras.applications.VGG16(input_shape=(100,100,3), include_top=False, weights='imagenet')\n",
    "    base_model_output = base_model.output\n",
    "    x = keras.layers.Flatten(name='flatten')(base_model_output)\n",
    "    #x = keras.layers.Dense(1024, activation='relu', name='fc1')(x)\n",
    "    #x = keras.layers.Dropout(0.25, name='dropout1')(x)\n",
    "    #x = keras.layers.Dense(256, activation='relu', name='fc2')(x)\n",
    "    #x = keras.layers.Dropout(0.5, name='dropout2')(x)\n",
    "    out = keras.layers.Dense(60, name='output', activation='softmax')(x)\n",
    "    \n",
    "    for layer in base_model.layers:\n",
    "        layer.trainable = False\n",
    "\n",
    "    model = keras.models.Model(inputs=base_model.input, outputs=out)\n",
    "    return model"
   ]
  },
  {
   "cell_type": "code",
   "execution_count": 8,
   "metadata": {},
   "outputs": [
    {
     "name": "stdout",
     "output_type": "stream",
     "text": [
      "_________________________________________________________________\n",
      "Layer (type)                 Output Shape              Param #   \n",
      "=================================================================\n",
      "input_1 (InputLayer)         (None, 100, 100, 3)       0         \n",
      "_________________________________________________________________\n",
      "block1_conv1 (Conv2D)        (None, 100, 100, 64)      1792      \n",
      "_________________________________________________________________\n",
      "block1_conv2 (Conv2D)        (None, 100, 100, 64)      36928     \n",
      "_________________________________________________________________\n",
      "block1_pool (MaxPooling2D)   (None, 50, 50, 64)        0         \n",
      "_________________________________________________________________\n",
      "block2_conv1 (Conv2D)        (None, 50, 50, 128)       73856     \n",
      "_________________________________________________________________\n",
      "block2_conv2 (Conv2D)        (None, 50, 50, 128)       147584    \n",
      "_________________________________________________________________\n",
      "block2_pool (MaxPooling2D)   (None, 25, 25, 128)       0         \n",
      "_________________________________________________________________\n",
      "block3_conv1 (Conv2D)        (None, 25, 25, 256)       295168    \n",
      "_________________________________________________________________\n",
      "block3_conv2 (Conv2D)        (None, 25, 25, 256)       590080    \n",
      "_________________________________________________________________\n",
      "block3_conv3 (Conv2D)        (None, 25, 25, 256)       590080    \n",
      "_________________________________________________________________\n",
      "block3_pool (MaxPooling2D)   (None, 12, 12, 256)       0         \n",
      "_________________________________________________________________\n",
      "block4_conv1 (Conv2D)        (None, 12, 12, 512)       1180160   \n",
      "_________________________________________________________________\n",
      "block4_conv2 (Conv2D)        (None, 12, 12, 512)       2359808   \n",
      "_________________________________________________________________\n",
      "block4_conv3 (Conv2D)        (None, 12, 12, 512)       2359808   \n",
      "_________________________________________________________________\n",
      "block4_pool (MaxPooling2D)   (None, 6, 6, 512)         0         \n",
      "_________________________________________________________________\n",
      "block5_conv1 (Conv2D)        (None, 6, 6, 512)         2359808   \n",
      "_________________________________________________________________\n",
      "block5_conv2 (Conv2D)        (None, 6, 6, 512)         2359808   \n",
      "_________________________________________________________________\n",
      "block5_conv3 (Conv2D)        (None, 6, 6, 512)         2359808   \n",
      "_________________________________________________________________\n",
      "block5_pool (MaxPooling2D)   (None, 3, 3, 512)         0         \n",
      "_________________________________________________________________\n",
      "flatten (Flatten)            (None, 4608)              0         \n",
      "_________________________________________________________________\n",
      "output (Dense)               (None, 60)                276540    \n",
      "=================================================================\n",
      "Total params: 14,991,228\n",
      "Trainable params: 276,540\n",
      "Non-trainable params: 14,714,688\n",
      "_________________________________________________________________\n"
     ]
    }
   ],
   "source": [
    "model = build_model()\n",
    "model.summary()"
   ]
  },
  {
   "cell_type": "code",
   "execution_count": 9,
   "metadata": {},
   "outputs": [],
   "source": [
    "model.compile(\n",
    "    loss='categorical_crossentropy', \n",
    "    metrics=['accuracy'], \n",
    "    optimizer=tf.train.AdamOptimizer(learning_rate=0.001,beta1=0.9,beta2=0.999,epsilon=1e-08,use_locking=False))"
   ]
  },
  {
   "cell_type": "code",
   "execution_count": 12,
   "metadata": {},
   "outputs": [
    {
     "name": "stdout",
     "output_type": "stream",
     "text": [
      "Train on 28736 samples, validate on 4841 samples\n",
      "Epoch 1/20\n",
      "28736/28736 [==============================] - 29s - loss: 1.0218 - acc: 0.8584 - val_loss: 0.4613 - val_acc: 0.9345\n",
      "Epoch 2/20\n",
      "28736/28736 [==============================] - 26s - loss: 0.1531 - acc: 0.9948 - val_loss: 0.2663 - val_acc: 0.9632\n",
      "Epoch 3/20\n",
      "28736/28736 [==============================] - 26s - loss: 0.0714 - acc: 0.9995 - val_loss: 0.1979 - val_acc: 0.9698\n",
      "Epoch 4/20\n",
      "28736/28736 [==============================] - 26s - loss: 0.0428 - acc: 1.0000 - val_loss: 0.1616 - val_acc: 0.9719\n",
      "Epoch 5/20\n",
      "28736/28736 [==============================] - 26s - loss: 0.0291 - acc: 1.0000 - val_loss: 0.1425 - val_acc: 0.9721\n",
      "Epoch 6/20\n",
      "28736/28736 [==============================] - 26s - loss: 0.0214 - acc: 1.0000 - val_loss: 0.1285 - val_acc: 0.9752\n",
      "Epoch 7/20\n",
      "28736/28736 [==============================] - 26s - loss: 0.0164 - acc: 1.0000 - val_loss: 0.1191 - val_acc: 0.9760\n",
      "Epoch 8/20\n",
      "28736/28736 [==============================] - 26s - loss: 0.0131 - acc: 1.0000 - val_loss: 0.1114 - val_acc: 0.9771\n",
      "Epoch 9/20\n",
      "28736/28736 [==============================] - 26s - loss: 0.0107 - acc: 1.0000 - val_loss: 0.1047 - val_acc: 0.9787\n",
      "Epoch 10/20\n",
      "28736/28736 [==============================] - 26s - loss: 0.0090 - acc: 1.0000 - val_loss: 0.0993 - val_acc: 0.9769\n",
      "Epoch 11/20\n",
      "28736/28736 [==============================] - 26s - loss: 0.0076 - acc: 1.0000 - val_loss: 0.0967 - val_acc: 0.9781\n",
      "Epoch 12/20\n",
      "28736/28736 [==============================] - 26s - loss: 0.0065 - acc: 1.0000 - val_loss: 0.0913 - val_acc: 0.9785\n",
      "Epoch 13/20\n",
      "28736/28736 [==============================] - 26s - loss: 0.0057 - acc: 1.0000 - val_loss: 0.0902 - val_acc: 0.9789\n",
      "Epoch 14/20\n",
      "28736/28736 [==============================] - 26s - loss: 0.0050 - acc: 1.0000 - val_loss: 0.0858 - val_acc: 0.9793\n",
      "Epoch 15/20\n",
      "28736/28736 [==============================] - 26s - loss: 0.0044 - acc: 1.0000 - val_loss: 0.0841 - val_acc: 0.9800\n",
      "Epoch 16/20\n",
      "28736/28736 [==============================] - 26s - loss: 0.0039 - acc: 1.0000 - val_loss: 0.0836 - val_acc: 0.9795\n",
      "Epoch 17/20\n",
      "28736/28736 [==============================] - 26s - loss: 0.0035 - acc: 1.0000 - val_loss: 0.0802 - val_acc: 0.9802\n",
      "Epoch 18/20\n",
      "28736/28736 [==============================] - 26s - loss: 0.0031 - acc: 1.0000 - val_loss: 0.0799 - val_acc: 0.9791\n",
      "Epoch 19/20\n",
      "28736/28736 [==============================] - 26s - loss: 0.0028 - acc: 1.0000 - val_loss: 0.0784 - val_acc: 0.9800\n",
      "Epoch 20/20\n",
      "28736/28736 [==============================] - 26s - loss: 0.0026 - acc: 1.0000 - val_loss: 0.0773 - val_acc: 0.9798\n",
      "Runtime: 535.6160089969635s\n"
     ]
    }
   ],
   "source": [
    "start=time.time()\n",
    "\n",
    "history = model.fit(\n",
    "    X_train,\n",
    "    Y_train, \n",
    "    batch_size = 256,\n",
    "    epochs = 20, \n",
    "    verbose = 1, \n",
    "    shuffle = True,\n",
    "    validation_data=(X_val, Y_val))\n",
    "\n",
    "end=time.time()\n",
    "runtime=end-start\n",
    "print(\"Runtime: \"+str(runtime)+\"s\")"
   ]
  },
  {
   "cell_type": "code",
   "execution_count": 13,
   "metadata": {},
   "outputs": [
    {
     "data": {
      "image/png": "[encoded data removed]",
      "text/plain": [
       "<Figure size 432x288 with 1 Axes>"
      ]
     },
     "metadata": {},
     "output_type": "display_data"
    }
   ],
   "source": [
    "plt.plot(history.history['loss'])\n",
    "plt.plot(history.history['val_loss'])\n",
    "plt.title('model loss')\n",
    "plt.ylabel('loss')\n",
    "plt.xlabel('epoch')\n",
    "plt.legend(['train','val'],loc='upper left')\n",
    "plt.show()"
   ]
  },
  {
   "cell_type": "code",
   "execution_count": 14,
   "metadata": {},
   "outputs": [
    {
     "data": {
      "image/png": "[encoded data removed]",
      "text/plain": [
       "<Figure size 432x288 with 1 Axes>"
      ]
     },
     "metadata": {},
     "output_type": "display_data"
    }
   ],
   "source": [
    "plt.plot(history.history['acc'])\n",
    "plt.plot(history.history['val_acc'])\n",
    "plt.title('model accuracy')\n",
    "plt.ylabel('accuracy')\n",
    "plt.xlabel('epoch')\n",
    "plt.legend(['train', 'val'], loc='upper left')\n",
    "plt.show()"
   ]
  },
  {
   "cell_type": "code",
   "execution_count": 15,
   "metadata": {},
   "outputs": [
    {
     "name": "stdout",
     "output_type": "stream",
     "text": [
      "4832/4832 [==============================] - 4s     \n",
      "\n",
      "acc: 97.81%\n",
      "Runtime: 4.240480661392212s\n"
     ]
    }
   ],
   "source": [
    "start=time.time()\n",
    "\n",
    "scores = model.evaluate(\n",
    "    test_images,\n",
    "    test_labels, \n",
    "    batch_size = 32, \n",
    "    verbose = 1, \n",
    "    sample_weight=None, \n",
    "    steps=None)\n",
    "\n",
    "print(\"\\n%s: %.2f%%\" % (model.metrics_names[1], scores[1]*100))\n",
    "\n",
    "end=time.time()\n",
    "runtime=end-start\n",
    "print(\"Runtime: \"+str(runtime)+\"s\")"
   ]
  },
  {
   "cell_type": "code",
   "execution_count": null,
   "metadata": {},
   "outputs": [],
   "source": []
  },
  {
   "cell_type": "code",
   "execution_count": null,
   "metadata": {},
   "outputs": [],
   "source": []
  }
 ],
 "metadata": {
  "kernelspec": {
   "display_name": "Python 3",
   "language": "python",
   "name": "python3"
  },
  "language_info": {
   "codemirror_mode": {
    "name": "ipython",
    "version": 3
   },
   "file_extension": ".py",
   "mimetype": "text/x-python",
   "name": "python",
   "nbconvert_exporter": "python",
   "pygments_lexer": "ipython3",
   "version": "3.6.4"
  }
 },
 "nbformat": 4,
 "nbformat_minor": 2
}
