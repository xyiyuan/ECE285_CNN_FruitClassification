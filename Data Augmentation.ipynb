{
 "cells": [
  {
   "cell_type": "code",
   "execution_count": 1,
   "metadata": {},
   "outputs": [
    {
     "name": "stdout",
     "output_type": "stream",
     "text": [
      "Loading training set...\n",
      "Done\n",
      "Loading test set...\n",
      "Done\n",
      "Splitting into val/test set...\n",
      "Done\n",
      "Normalization...\n",
      "Done\n",
      "Converting to one-hot code...\n",
      "Done\n"
     ]
    }
   ],
   "source": [
    "%run 'dataprocessing.ipynb'"
   ]
  },
  {
   "cell_type": "code",
   "execution_count": 2,
   "metadata": {},
   "outputs": [],
   "source": [
    "def add_gaussian_noise(images):\n",
    "    gaussian_noise_imgs = []\n",
    "    row, col, _ = images[0].shape\n",
    "    # Gaussian distribution parameters\n",
    "    mean = 0\n",
    "    var = 0.1\n",
    "    sigma = var ** 0.5   \n",
    "    for image in images:\n",
    "        gaussian = np.random.random((row, col, 1)).astype(np.float64)\n",
    "        gaussian = np.concatenate((gaussian, gaussian, gaussian), axis = 2)\n",
    "        gaussian_img = cv2.addWeighted(image, 0.75, gaussian, 0.25, 0)\n",
    "        gaussian_noise_imgs.append(gaussian_img)\n",
    "    gaussian_noise_imgs = np.array(gaussian_noise_imgs, dtype = np.float32)\n",
    "    return gaussian_noise_imgs"
   ]
  },
  {
   "cell_type": "code",
   "execution_count": 3,
   "metadata": {},
   "outputs": [
    {
     "name": "stdout",
     "output_type": "stream",
     "text": [
      "Generating Gaussian noise images...\n",
      "Done\n"
     ]
    }
   ],
   "source": [
    "print(\"Generating Gaussian noise images...\")\n",
    "\n",
    "train_gaussian_images = add_gaussian_noise(train_images)\n",
    "\n",
    "print(\"Done\")"
   ]
  },
  {
   "cell_type": "code",
   "execution_count": 4,
   "metadata": {},
   "outputs": [
    {
     "name": "stdout",
     "output_type": "stream",
     "text": [
      "Stacking Gaussian noise images...\n",
      "Done\n"
     ]
    }
   ],
   "source": [
    "print(\"Stacking Gaussian noise images...\")\n",
    "\n",
    "X_train=np.vstack((train_images,train_gaussian_images))\n",
    "Y_train=np.vstack((train_labels,train_labels))\n",
    "\n",
    "print(\"Done\")"
   ]
  },
  {
   "cell_type": "markdown",
   "metadata": {},
   "source": [
    "def add_salt_pepper_noise(X_imgs):\n",
    "    # Need to produce a copy as to not modify the original image\n",
    "    X_imgs_copy = X_imgs.copy()\n",
    "    row, col, _ = X_imgs_copy[0].shape\n",
    "    salt_vs_pepper = 0.2\n",
    "    amount = 0.004\n",
    "    num_salt = np.ceil(amount * X_imgs_copy[0].size * salt_vs_pepper)\n",
    "    num_pepper = np.ceil(amount * X_imgs_copy[0].size * (1.0 - salt_vs_pepper))\n",
    "    \n",
    "    for X_img in X_imgs_copy:\n",
    "        # Add Salt noise\n",
    "        coords = [np.random.randint(0, i - 1, int(num_salt)) for i in X_img.shape]\n",
    "        X_img[coords[0], coords[1], :] = 1\n",
    "\n",
    "        # Add Pepper noise\n",
    "        coords = [np.random.randint(0, i - 1, int(num_pepper)) for i in X_img.shape]\n",
    "        X_img[coords[0], coords[1], :] = 0\n",
    "    return X_imgs_copy"
   ]
  },
  {
   "cell_type": "markdown",
   "metadata": {},
   "source": [
    "print(\"Generating pepper noise images...\")\n",
    "\n",
    "train_pepper_images = add_salt_pepper_noise(train_images)\n",
    "\n",
    "print(\"Done\")"
   ]
  },
  {
   "cell_type": "markdown",
   "metadata": {},
   "source": [
    "print(\"Stacking pepper noise images...\")\n",
    "\n",
    "X_train=np.vstack((X_train,train_pepper_images))\n",
    "Y_train=np.vstack((Y_train,train_labels))\n",
    "\n",
    "print(\"Done\")"
   ]
  },
  {
   "cell_type": "code",
   "execution_count": 5,
   "metadata": {},
   "outputs": [],
   "source": [
    "def get_mask_coord(imshape):\n",
    "    vertices = np.array([[(0.09 * imshape[1], 0.99 * imshape[0]), \n",
    "                          (0.43 * imshape[1], 0.32 * imshape[0]), \n",
    "                          (0.56 * imshape[1], 0.32 * imshape[0]),\n",
    "                          (0.85 * imshape[1], 0.99 * imshape[0])]], dtype = np.int32)\n",
    "    return vertices\n",
    "\n",
    "def get_perspective_matrices(X_img):\n",
    "    offset = 15\n",
    "    img_size = (X_img.shape[1], X_img.shape[0])\n",
    "\n",
    "    # Estimate the coordinates of object of interest inside the image.\n",
    "    src = np.float32(get_mask_coord(X_img.shape))\n",
    "    dst = np.float32([[offset, img_size[1]], [offset, 0], [img_size[0] - offset, 0], \n",
    "                      [img_size[0] - offset, img_size[1]]])\n",
    "    \n",
    "    perspective_matrix = cv2.getPerspectiveTransform(src, dst)\n",
    "    return perspective_matrix\n",
    "\n",
    "def perspective_transform(X_img):\n",
    "    # Doing only for one type of example\n",
    "    perspective_matrix = get_perspective_matrices(X_img)\n",
    "    warped_img = cv2.warpPerspective(X_img, perspective_matrix,\n",
    "                                     (X_img.shape[1], X_img.shape[0]),\n",
    "                                     flags = cv2.INTER_LINEAR)\n",
    "    return warped_img"
   ]
  },
  {
   "cell_type": "code",
   "execution_count": 6,
   "metadata": {},
   "outputs": [],
   "source": [
    "print(\"Generating perspective images...\")\n",
    "\n",
    "train_perspective_images=[]\n",
    "for image in train_images:\n",
    "    perspective_image = perspective_transform(image)\n",
    "    train_perspective_images.append(perspective_image)\n",
    "    \n",
    "train_perspective_images = np.array(train_perspective_images, dtype = np.float32)    \n",
    "\n",
    "print(\"Done\")"
   ]
  },
  {
   "cell_type": "code",
   "execution_count": 8,
   "metadata": {},
   "outputs": [],
   "source": [
    "print(\"Stacking perspective images...\")\n",
    "\n",
    "X_train=np.vstack((X_train,train_perspective_images))\n",
    "Y_train=np.vstack((Y_train,train_labels))\n",
    "\n",
    "print(\"Done\")"
   ]
  },
  {
   "cell_type": "code",
   "execution_count": 9,
   "metadata": {},
   "outputs": [],
   "source": [
    "X_val=val_images\n",
    "Y_val=val_labels\n",
    "X_test=test_images\n",
    "Y_test=test_labels"
   ]
  },
  {
   "cell_type": "code",
   "execution_count": null,
   "metadata": {},
   "outputs": [],
   "source": [
    "print(\"Finished!\")"
   ]
  }
 ],
 "metadata": {
  "kernelspec": {
   "display_name": "Python 3",
   "language": "python",
   "name": "python3"
  },
  "language_info": {
   "codemirror_mode": {
    "name": "ipython",
    "version": 3
   },
   "file_extension": ".py",
   "mimetype": "text/x-python",
   "name": "python",
   "nbconvert_exporter": "python",
   "pygments_lexer": "ipython3",
   "version": "3.6.4"
  }
 },
 "nbformat": 4,
 "nbformat_minor": 2
}
