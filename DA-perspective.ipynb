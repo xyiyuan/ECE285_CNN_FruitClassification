{
 "cells": [
  {
   "cell_type": "code",
   "execution_count": null,
   "metadata": {},
   "outputs": [],
   "source": [
    "def get_mask_coord(imshape):\n",
    "    vertices = np.array([[(0.09 * imshape[1], 0.99 * imshape[0]), \n",
    "                          (0.43 * imshape[1], 0.32 * imshape[0]), \n",
    "                          (0.56 * imshape[1], 0.32 * imshape[0]),\n",
    "                          (0.85 * imshape[1], 0.99 * imshape[0])]], dtype = np.int32)\n",
    "    return vertices\n",
    "\n",
    "def get_perspective_matrices(X_img):\n",
    "    offset = 15\n",
    "    img_size = (X_img.shape[1], X_img.shape[0])\n",
    "\n",
    "    # Estimate the coordinates of object of interest inside the image.\n",
    "    src = np.float32(get_mask_coord(X_img.shape))\n",
    "    dst = np.float32([[offset, img_size[1]], [offset, 0], [img_size[0] - offset, 0], \n",
    "                      [img_size[0] - offset, img_size[1]]])\n",
    "    \n",
    "    perspective_matrix = cv2.getPerspectiveTransform(src, dst)\n",
    "    return perspective_matrix\n",
    "\n",
    "def perspective_transform(X_img):\n",
    "    # Doing only for one type of example\n",
    "    perspective_matrix = get_perspective_matrices(X_img)\n",
    "    warped_img = cv2.warpPerspective(X_img, perspective_matrix,\n",
    "                                     (X_img.shape[1], X_img.shape[0]),\n",
    "                                     flags = cv2.INTER_LINEAR)\n",
    "    return warped_img"
   ]
  },
  {
   "cell_type": "code",
   "execution_count": null,
   "metadata": {},
   "outputs": [],
   "source": [
    "print(\"Generating perspective images...\")\n",
    "\n",
    "train_perspective_images=[]\n",
    "for image in train_images:\n",
    "    perspective_image = perspective_transform(image)\n",
    "    train_perspective_images.append(perspective_image)\n",
    "    \n",
    "train_perspective_images = np.array(train_perspective_images, dtype = np.float32)    \n",
    "\n",
    "print(\"Done\")"
   ]
  },
  {
   "cell_type": "code",
   "execution_count": null,
   "metadata": {},
   "outputs": [],
   "source": [
    "print(\"Stacking perspective images...\")\n",
    "\n",
    "X_train=np.vstack((X_train,train_perspective_images))\n",
    "Y_train=np.vstack((Y_train,train_labels))\n",
    "\n",
    "print(\"Done\")"
   ]
  },
  {
   "cell_type": "code",
   "execution_count": null,
   "metadata": {},
   "outputs": [],
   "source": [
    "print(\"Finished!\")"
   ]
  }
 ],
 "metadata": {
  "kernelspec": {
   "display_name": "Python 3",
   "language": "python",
   "name": "python3"
  },
  "language_info": {
   "codemirror_mode": {
    "name": "ipython",
    "version": 3
   },
   "file_extension": ".py",
   "mimetype": "text/x-python",
   "name": "python",
   "nbconvert_exporter": "python",
   "pygments_lexer": "ipython3",
   "version": "3.6.4"
  }
 },
 "nbformat": 4,
 "nbformat_minor": 2
}
